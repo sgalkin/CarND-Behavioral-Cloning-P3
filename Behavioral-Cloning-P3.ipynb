{
 "cells": [
  {
   "cell_type": "code",
   "execution_count": null,
   "metadata": {},
   "outputs": [],
   "source": [
    "DATA='data'\n",
    "REGISTER='driving_log.csv'\n",
    "REPO='repo'"
   ]
  },
  {
   "cell_type": "code",
   "execution_count": null,
   "metadata": {},
   "outputs": [],
   "source": [
    "import os\n",
    "import sys\n",
    "import csv"
   ]
  },
  {
   "cell_type": "code",
   "execution_count": null,
   "metadata": {},
   "outputs": [],
   "source": [
    "import operator\n",
    "import copy\n",
    "from sklearn.utils import shuffle\n",
    "from sklearn.model_selection import train_test_split\n",
    "\n",
    "class Register:\n",
    "    def _get_dialect(self, sample):\n",
    "        dialect = csv.Sniffer().sniff(sample)\n",
    "        dialect.skipinitialspace = True\n",
    "        dialect.strict = True\n",
    "        return dialect\n",
    "        \n",
    "    def _read_header(self, file, sample):\n",
    "        return next(csv.reader(file)) if csv.Sniffer().has_header(sample) else None\n",
    "        \n",
    "    def __init__(self, path, prefix=''):\n",
    "        self.prefix = prefix\n",
    "        \n",
    "        with open(os.path.join(prefix, path), 'r') as f:\n",
    "            sample = f.read(4096)\n",
    "            f.seek(0)\n",
    "        \n",
    "            self.header = self._read_header(f, sample)\n",
    "            self._data = list(csv.reader(f, dialect=self._get_dialect(sample)))\n",
    "            \n",
    "    def split(self, fraction):\n",
    "        data = self._data\n",
    "        self._data = []\n",
    "        first = copy.deepcopy(self)\n",
    "        second = copy.deepcopy(self)\n",
    "        self._data = data\n",
    "        \n",
    "        first._data, second._data = train_test_split(self._data, test_size=fraction)\n",
    "        return first, second\n",
    "        \n",
    "    def __len__(self):\n",
    "        return len(self._data)\n",
    "        \n",
    "    def shuffle(self):\n",
    "        self._data = shuffle(self._data)\n",
    "        \n",
    "    def read(self, *args):\n",
    "        getter = operator.itemgetter(*args) if args else None\n",
    "        for l in self._data:\n",
    "            yield getter(l) if getter else l"
   ]
  },
  {
   "cell_type": "code",
   "execution_count": null,
   "metadata": {},
   "outputs": [],
   "source": [
    "reg = Register(REGISTER, prefix=DATA)\n",
    "print('Driving log contains - {} examples'.format(len(reg)))\n",
    "\n",
    "train_reg, valid_reg = reg.split(0.4)\n",
    "valid_reg, test_reg = valid_reg.split(0.5)\n",
    "print('Train set - {}\\nValidation set - {}\\nTest set - {}'.format(\n",
    "    len(train_reg), len(valid_reg), len(test_reg)))"
   ]
  },
  {
   "cell_type": "code",
   "execution_count": null,
   "metadata": {},
   "outputs": [],
   "source": [
    "h = reg.header\n",
    "print(\"Header: {}\".format(\", \".join(h)))\n",
    "\n",
    "center = h.index('center') if h else 0\n",
    "left = h.index('left') if h else 1\n",
    "right = h.index('right') if h else 2\n",
    "steering = h.index('steering') if h else 3"
   ]
  },
  {
   "cell_type": "code",
   "execution_count": null,
   "metadata": {},
   "outputs": [],
   "source": [
    "import os\n",
    "import hashlib\n",
    "import shutil\n",
    "\n",
    "class ImageRepository:\n",
    "    def __init__(self, location):\n",
    "        self._location = location\n",
    "        os.makedirs(location, exist_ok=True)\n",
    "    \n",
    "    def _hash(self, name):\n",
    "        return hashlib.sha256(str.encode(name)).hexdigest()\n",
    "        \n",
    "    def _build_directories(self):\n",
    "        for l1 in range(256):\n",
    "            for l2 in range(256):\n",
    "                os.makedirs(os.path.join(self._location, '%02x' % l1, '%02x' % l2),\n",
    "                            exist_ok=True)        \n",
    "    def target(self, name):\n",
    "        h = self._hash(name)\n",
    "        return os.path.join(self._location, h[0:2], h[2:4], h[4:])\n",
    "\n",
    "    \n",
    "    def build(self, register):\n",
    "        self._build_directories()\n",
    "        for name in (name \n",
    "                     for names in register.read(left, center, right)\n",
    "                     for name in names):\n",
    "            dst = self.target(name)\n",
    "            if not os.path.exists(dst):\n",
    "                shutil.copyfile(os.path.join(register.prefix, name), dst)\n",
    "\n",
    "    def read(self, name):\n",
    "        return cv2.cvtColor(cv2.imread(self.target(name)), cv2.COLOR_BGR2RGB)"
   ]
  },
  {
   "cell_type": "code",
   "execution_count": null,
   "metadata": {},
   "outputs": [],
   "source": [
    "ir = ImageRepository(os.path.join(DATA, REPO))\n",
    "ir.build(reg)"
   ]
  },
  {
   "cell_type": "code",
   "execution_count": null,
   "metadata": {},
   "outputs": [],
   "source": [
    "import cv2"
   ]
  },
  {
   "cell_type": "code",
   "execution_count": null,
   "metadata": {},
   "outputs": [],
   "source": [
    "def detect_lanes(gray):\n",
    "    canny_low = 180\n",
    "    canny_high = 500\n",
    "    canny = cv2.Canny(gray, canny_low, canny_high)\n",
    "    \n",
    "    rho = 1\n",
    "    theta = math.pi / 180\n",
    "    threshold = 40\n",
    "    min_line_len = 45\n",
    "    max_line_gap = 15\n",
    "    hough = cv2.HoughLinesP(canny, rho, theta, threshold, \n",
    "                            np.array([]), \n",
    "                            minLineLength=min_line_len, maxLineGap=max_line_gap)\n",
    "    if hough is None:\n",
    "        hough = []\n",
    "    \n",
    "    lines = np.zeros((canny.shape[0], canny.shape[1]), dtype=np.uint8) \n",
    "    for x1,y1,x2,y2 in ((x1,y1,x2,y2) \n",
    "                        for line in hough if hough is not None \n",
    "                        for x1,y1,x2,y2 in line):\n",
    "        cv2.line(lines, (x1, y1), (x2, y2), color=(255,), thickness=3)\n",
    "\n",
    "    return lines"
   ]
  },
  {
   "cell_type": "code",
   "execution_count": null,
   "metadata": {},
   "outputs": [],
   "source": [
    "def square(img):\n",
    "    transpose = img.transpose([1,0,2])\n",
    "    h, w = (img.shape[i] for i in (0, 1))\n",
    "    delta = 1*(w - h)/2\n",
    "    mask = np.ones(len(transpose), dtype=bool)\n",
    "    mask[range(int(w/2 - delta), int(w/2 + delta))] = False\n",
    "    return transpose[mask].transpose([1,0,2])"
   ]
  },
  {
   "cell_type": "code",
   "execution_count": null,
   "metadata": {},
   "outputs": [],
   "source": [
    "def resize(img, target):\n",
    "    return np.dstack((cv2.resize(i, target, interpolation=cv2.INTER_NEAREST) \n",
    "                      for i in np.dsplit(img, img.shape[-1])))"
   ]
  },
  {
   "cell_type": "code",
   "execution_count": null,
   "metadata": {},
   "outputs": [],
   "source": [
    "import numpy as np\n",
    "import matplotlib.pyplot as plt\n",
    "%matplotlib inline  "
   ]
  },
  {
   "cell_type": "code",
   "execution_count": null,
   "metadata": {},
   "outputs": [],
   "source": [
    "plt.imshow(resize(square(ir.read(next(reg.read(center)))), (32, 32))[:,:,0], cmap='gray')"
   ]
  },
  {
   "cell_type": "code",
   "execution_count": null,
   "metadata": {},
   "outputs": [],
   "source": [
    "from itertools import islice\n",
    "import math\n",
    "\n",
    "plt.figure(figsize=(16, 8))\n",
    "num = 15\n",
    "cols = 3\n",
    "reg.shuffle()\n",
    "for idx,x in enumerate(islice(reg.read(left,center,right), int(num/3))):\n",
    "    for jdx,path in enumerate(x):\n",
    "        img = ir.read(path)\n",
    "        img = np.dstack((img, np.expand_dims(detect_lanes(img), -1)))\n",
    "        img = resize(square(img), (32, 32))\n",
    "        #print(img.shape)\n",
    "        plt.subplot(num/cols+(1 if (num%cols) else 0), cols, 3*idx + jdx + 1)\n",
    "        plt.title(path)\n",
    "        plt.imshow(img[:,:,3], interpolation='nearest', cmap='gray')\n",
    "plt.tight_layout()"
   ]
  },
  {
   "cell_type": "code",
   "execution_count": null,
   "metadata": {},
   "outputs": [],
   "source": [
    "import functools\n",
    "\n",
    "def generate(gen, fn):\n",
    "    for i, s in (generated for args in gen for generated in fn(*args)):\n",
    "        yield i, s\n",
    "    \n",
    "def generator(reg, ir, X_pipeline, y):    \n",
    "    X, p = zip(*X_pipeline)\n",
    "    for i, s in (generated\n",
    "                 for inputs in reg.read(*X, y)\n",
    "                 for f, x in zip(p, inputs[:-1])\n",
    "                 for generated in \n",
    "                     functools.reduce(generate, (read_data,) + f, ((ir, x, y) for _ in range(1)))\n",
    "                ):\n",
    "        yield i, s"
   ]
  },
  {
   "cell_type": "code",
   "execution_count": null,
   "metadata": {},
   "outputs": [],
   "source": [
    "def read_data(ir, name, s):\n",
    "    yield ir.read(name), float(s)\n",
    "\n",
    "def crop_image(image, s, top, bottom):\n",
    "    yield image[top:bottom], s\n",
    "    \n",
    "def convert_colorspace(image, s):\n",
    "    yield cv2.cvtColor(image, cv2.COLOR_RGB2YUV), s\n",
    "    \n",
    "def lanes(image, s):\n",
    "    yield np.dstack((image, detect_lanes(image[:,:,0]))), s\n",
    "\n",
    "def square_image(image, s):\n",
    "    yield square(image), s\n",
    "        \n",
    "def resize_image(image, s, target):\n",
    "    yield resize(image, target), s\n",
    "    \n",
    "def adjust_angle(image, s, d):\n",
    "    yield image, s + d\n",
    "\n",
    "def flip(image, s):\n",
    "    yield image, s\n",
    "    yield cv2.flip(image, 1), -s"
   ]
  },
  {
   "cell_type": "code",
   "execution_count": null,
   "metadata": {},
   "outputs": [],
   "source": [
    "def batch_generator(gen, batch_size):\n",
    "    while True:\n",
    "        batch = tuple(np.array(x) for x in zip(*islice(gen, batch_size)))\n",
    "        if len(batch) == 0: return\n",
    "        assert(len(batch) == 2)    \n",
    "        yield batch\n",
    "        if len(batch[0]) != batch_size: return\n",
    "\n",
    "def shuffle_batch(gen):\n",
    "    for batch in gen:\n",
    "        yield shuffle(*batch)\n",
    "        \n",
    "def infitnite_generator(generate, shuffle):\n",
    "    while True:\n",
    "        shuffle()\n",
    "        for i,v in enumerate(generate()):\n",
    "            yield v"
   ]
  },
  {
   "cell_type": "code",
   "execution_count": null,
   "metadata": {},
   "outputs": [],
   "source": [
    "def train_generator(reg, ir):\n",
    "    crop = lambda i, s: crop_image(i, s, 65, 135)\n",
    "    resize = lambda i, s: resize_image(i, s, (32, 32))\n",
    "    center_processor = (center, (flip,)) #(crop, convert_colorspace, lanes, square_image, flip, resize))\n",
    "    left_processor = (left, (lambda i, s: adjust_angle(i, s, 5), flip))\n",
    "    right_processor = (right, (lambda i, s: adjust_angle(i, s, -5), flip))\n",
    "    return generator(reg, ir, (center_processor, left_processor, right_processor), steering)"
   ]
  },
  {
   "cell_type": "code",
   "execution_count": null,
   "metadata": {},
   "outputs": [],
   "source": [
    "x = 0\n",
    "limit = 8\n",
    "plt.figure(figsize=(16,8))\n",
    "for i,m in islice(train_generator(reg, ir), limit):\n",
    "    for j in range(i.shape[-1]):\n",
    "        plt.subplot(i.shape[-1], limit, x + limit*j + 1);\n",
    "        plt.imshow(i[:,:,j], cmap='gray', interpolation='lanczos')\n",
    "    x += 1\n",
    "plt.tight_layout()"
   ]
  },
  {
   "cell_type": "code",
   "execution_count": null,
   "metadata": {},
   "outputs": [],
   "source": [
    "from keras.models import Sequential\n",
    "from keras.layers import Flatten, Dense, Activation, Lambda, Conv2D, MaxPooling2D\n",
    "\n",
    "shape = next(train_generator(reg, ir))[0].shape\n",
    "batch_size=128\n",
    "print('steps - ', int(len(train_reg)/float(batch_size) + 0.5))\n",
    "tgen = lambda reg, ir, batch_size: infitnite_generator(\n",
    "    lambda: shuffle_batch(\n",
    "            batch_generator(\n",
    "                train_generator(reg, ir), \n",
    "                batch_size)),\n",
    "    lambda: reg.shuffle())\n",
    "\n",
    "#vgen = lambda reg, ir, batch_size: batch_generator(train_generator(reg, ir), batch_size)\n",
    "\n",
    "#inp = Input(shape=shape)\n",
    "#print(inp)\n",
    "model = Sequential()\n",
    "print(model.outputs)\n",
    "#model.add(Flatten(input_shape=shape))\n",
    "print(model.outputs)\n",
    "model.add(Conv2D(16, (5, 5), input_shape=shape))\n",
    "model.add(MaxPooling2D((3, 3), (2, 2)))\n",
    "model.add(Activation('relu'))\n",
    "model.add(Conv2D(32, (5, 5)))\n",
    "model.add(MaxPooling2D((3, 3), (2, 2)))\n",
    "model.add(Activation('relu'))\n",
    "model.add(Conv2D(64, (5, 5)))\n",
    "model.add(MaxPooling2D((3, 3), (2, 2)))\n",
    "model.add(Activation('relu'))\n",
    "print(model.outputs)\n",
    "model.add(Flatten())\n",
    "model.add(Dense(128, activation='relu', use_bias=True))\n",
    "print(model.outputs)\n",
    "model.add(Dense(128, activation='relu', use_bias=True))\n",
    "print(model.outputs)\n",
    "model.add(Dense(1, activation='relu', use_bias=True))\n",
    "print(model.outputs)\n",
    "\n",
    "model.compile(loss='mse', optimizer='adam')#, metrics=['mae'])\n",
    "model.fit_generator(generator=tgen(train_reg, ir, batch_size), \n",
    "                    steps_per_epoch=int(6*len(train_reg)/float(batch_size) + 0.5), \n",
    "                    epochs=2,\n",
    "                    validation_data=tgen(valid_reg, ir, batch_size),\n",
    "                    validation_steps=int(6*len(valid_reg)/float(batch_size) + 0.5),\n",
    "                    verbose=1, \n",
    "                    use_multiprocessing=True)\n",
    "model.save_weights('model.hdf5')\n",
    "del model"
   ]
  },
  {
   "cell_type": "code",
   "execution_count": null,
   "metadata": {},
   "outputs": [],
   "source": []
  },
  {
   "cell_type": "code",
   "execution_count": null,
   "metadata": {},
   "outputs": [],
   "source": []
  }
 ],
 "metadata": {
  "kernelspec": {
   "display_name": "Python 3",
   "language": "python",
   "name": "python3"
  },
  "language_info": {
   "codemirror_mode": {
    "name": "ipython",
    "version": 3
   },
   "file_extension": ".py",
   "mimetype": "text/x-python",
   "name": "python",
   "nbconvert_exporter": "python",
   "pygments_lexer": "ipython3",
   "version": "3.5.2"
  },
  "widgets": {
   "state": {},
   "version": "1.1.2"
  }
 },
 "nbformat": 4,
 "nbformat_minor": 2
}
